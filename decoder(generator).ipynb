{
 "cells": [
  {
   "cell_type": "code",
   "execution_count": 1,
   "metadata": {},
   "outputs": [],
   "source": [
    "import tensorflow as tf\n",
    "from tensorflow.keras import layers"
   ]
  },
  {
   "cell_type": "code",
   "execution_count": 2,
   "metadata": {},
   "outputs": [],
   "source": [
    "img_shape = (64,64)"
   ]
  },
  {
   "cell_type": "code",
   "execution_count": 3,
   "metadata": {},
   "outputs": [],
   "source": [
    "# Generator Model:\n",
    "def generator():\n",
    "    model = tf.keras.Sequential([\n",
    "        layers.Input(shape=(64,64,1)),\n",
    "        layers.Conv2D(64,3,activation = \"relu\", padding=\"same\"),\n",
    "        layers.Conv2D(64,3,activation = \"relu\", padding=\"same\"),\n",
    "        layers.Conv2D(1,1,activation = \"sigmoid\", padding=\"same\"),\n",
    "    ])\n",
    "    return model"
   ]
  },
  {
   "cell_type": "code",
   "execution_count": 4,
   "metadata": {},
   "outputs": [],
   "source": [
    "generator = generator()"
   ]
  },
  {
   "cell_type": "code",
   "execution_count": 5,
   "metadata": {},
   "outputs": [],
   "source": [
    "image = tf.zeros((1,64,64,1))\n",
    "num_steps = 50\n",
    "for _ in range(num_steps):\n",
    "    next_step = generator(image)\n",
    "    image = next_step"
   ]
  },
  {
   "cell_type": "code",
   "execution_count": 6,
   "metadata": {},
   "outputs": [
    {
     "data": {
      "image/png": "[encoded data removed]",
      "text/plain": [
       "<Figure size 640x480 with 2 Axes>"
      ]
     },
     "metadata": {},
     "output_type": "display_data"
    }
   ],
   "source": [
    "import matplotlib.pyplot as plt\n",
    "image_array = image.numpy()[0, :, :, 0]\n",
    "plt.imshow(image_array,cmap=\"gray\")\n",
    "plt.colorbar()\n",
    "plt.show();"
   ]
  },
  {
   "cell_type": "markdown",
   "metadata": {},
   "source": [
    "### Image to text model:"
   ]
  },
  {
   "cell_type": "code",
   "execution_count": 17,
   "metadata": {},
   "outputs": [],
   "source": [
    "# def text_embedded_generator(embedding_dim):\n",
    "#     img_input = layers.Input(shape=(img_height,img_width,1))\n",
    "#     text_input = layers.Input(shape=(embedding_dim,))\n",
    "#     # text input needs to be reshaped inorder to concatenate the two layers:\n",
    "#     # reshaped_text_input = layers.Reshape((1,1, embedding_dim))(text_input)\n",
    "#     img_input_reshaped = layers.Reshape((img_height, img_width, embedding_dim))(img_input)\n",
    "#     concat_input = layers.Concatenate()([img_input_reshaped, text_input])\n",
    "\n",
    "#     # Generator Layers:\n",
    "#     x = layers.Conv2D(64,3, activation=\"relu\",padding=\"same\")(concat_input)\n",
    "#     x = layers.Conv2D(64,3, activation=\"relu\",padding=\"same\")(x)\n",
    "#     output = layers.Conv2D(1,1, activation=\"sigmoid\",apdding=\"same\")(x)\n",
    "\n",
    "#     # defining model:\n",
    "#     model = tf.keras.Model(inputs=[img_input,text_input], outputs=output)\n",
    "#     return model"
   ]
  },
  {
   "cell_type": "code",
   "execution_count": 16,
   "metadata": {},
   "outputs": [],
   "source": [
    "# embeddings = 32\n",
    "# generator = text_embedded_generator(embeddings)"
   ]
  },
  {
   "cell_type": "code",
   "execution_count": null,
   "metadata": {},
   "outputs": [],
   "source": []
  }
 ],
 "metadata": {
  "kernelspec": {
   "display_name": "mlenv",
   "language": "python",
   "name": "python3"
  },
  "language_info": {
   "codemirror_mode": {
    "name": "ipython",
    "version": 3
   },
   "file_extension": ".py",
   "mimetype": "text/x-python",
   "name": "python",
   "nbconvert_exporter": "python",
   "pygments_lexer": "ipython3",
   "version": "3.10.0"
  }
 },
 "nbformat": 4,
 "nbformat_minor": 2
}
